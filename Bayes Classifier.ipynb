{
 "cells": [
  {
   "cell_type": "markdown",
   "metadata": {
    "id": "nMROUMBW4n34"
   },
   "source": [
    "# Bayes Classifiers"
   ]
  },
  {
   "cell_type": "markdown",
   "metadata": {
    "id": "btU3aLZTiNW6"
   },
   "source": [
    "## 1. Spam detection"
   ]
  },
  {
   "cell_type": "markdown",
   "metadata": {
    "id": "p-nMzbKPiY8S"
   },
   "source": [
    "- In this exercise, we use Bayes and na&iuml;ve Bayes classifiers to classify text message spam.\n",
    "\n",
    "- We use a dataset from the UCI machine learning repository. Details can be found here [here](https://archive.ics.uci.edu/ml/datasets/SMS+Spam+Collection)."
   ]
  },
  {
   "cell_type": "code",
   "execution_count": 1,
   "metadata": {
    "colab": {
     "base_uri": "https://localhost:8080/",
     "height": 202
    },
    "id": "NbLs8axSiYPa",
    "outputId": "81e9d3c9-7abd-4984-d668-7286dc96f7a2"
   },
   "outputs": [
    {
     "data": {
      "text/html": [
       "<div>\n",
       "<style scoped>\n",
       "    .dataframe tbody tr th:only-of-type {\n",
       "        vertical-align: middle;\n",
       "    }\n",
       "\n",
       "    .dataframe tbody tr th {\n",
       "        vertical-align: top;\n",
       "    }\n",
       "\n",
       "    .dataframe thead th {\n",
       "        text-align: right;\n",
       "    }\n",
       "</style>\n",
       "<table border=\"1\" class=\"dataframe\">\n",
       "  <thead>\n",
       "    <tr style=\"text-align: right;\">\n",
       "      <th></th>\n",
       "      <th>label</th>\n",
       "      <th>message</th>\n",
       "    </tr>\n",
       "  </thead>\n",
       "  <tbody>\n",
       "    <tr>\n",
       "      <th>0</th>\n",
       "      <td>ham</td>\n",
       "      <td>Go until jurong point, crazy.. Available only ...</td>\n",
       "    </tr>\n",
       "    <tr>\n",
       "      <th>1</th>\n",
       "      <td>ham</td>\n",
       "      <td>Ok lar... Joking wif u oni...</td>\n",
       "    </tr>\n",
       "    <tr>\n",
       "      <th>2</th>\n",
       "      <td>spam</td>\n",
       "      <td>Free entry in 2 a wkly comp to win FA Cup fina...</td>\n",
       "    </tr>\n",
       "    <tr>\n",
       "      <th>3</th>\n",
       "      <td>ham</td>\n",
       "      <td>U dun say so early hor... U c already then say...</td>\n",
       "    </tr>\n",
       "    <tr>\n",
       "      <th>4</th>\n",
       "      <td>ham</td>\n",
       "      <td>Nah I don't think he goes to usf, he lives aro...</td>\n",
       "    </tr>\n",
       "  </tbody>\n",
       "</table>\n",
       "</div>"
      ],
      "text/plain": [
       "  label                                            message\n",
       "0   ham  Go until jurong point, crazy.. Available only ...\n",
       "1   ham                      Ok lar... Joking wif u oni...\n",
       "2  spam  Free entry in 2 a wkly comp to win FA Cup fina...\n",
       "3   ham  U dun say so early hor... U c already then say...\n",
       "4   ham  Nah I don't think he goes to usf, he lives aro..."
      ]
     },
     "execution_count": 1,
     "metadata": {},
     "output_type": "execute_result"
    }
   ],
   "source": [
    "import pandas as pd\n",
    "import numpy as np\n",
    "import matplotlib.pyplot as plt\n",
    "\n",
    "file = \"https://raw.githubusercontent.com/Graeme-kemp/Bayes-Classifiers/main/SMSSpamCollection.csv\"\n",
    "df = pd.read_csv(file, encoding=\"latin-1\", sep='\\t', header = None)\n",
    "df.columns = ['label', 'message']\n",
    "df.head()"
   ]
  },
  {
   "cell_type": "markdown",
   "metadata": {
    "id": "D4lidWxvjau5"
   },
   "source": [
    "Split the data into a training set (80% of the data) and a testing set (20% of the data).\n",
    "\n",
    "Compute the proportions of ham and spam in the training set."
   ]
  },
  {
   "cell_type": "code",
   "execution_count": 2,
   "metadata": {},
   "outputs": [
    {
     "data": {
      "text/plain": [
       "ham     4825\n",
       "spam     747\n",
       "Name: label, dtype: int64"
      ]
     },
     "execution_count": 2,
     "metadata": {},
     "output_type": "execute_result"
    }
   ],
   "source": [
    "\n",
    "df.label.value_counts()"
   ]
  },
  {
   "cell_type": "code",
   "execution_count": 3,
   "metadata": {},
   "outputs": [
    {
     "name": "stdout",
     "output_type": "stream",
     "text": [
      "The Proportion of Ham and Spam labels in the whole dataset is: Spam = 0.134, Ham = 0.866\n"
     ]
    }
   ],
   "source": [
    "Pham = 4825/5572\n",
    "Pspam = 747/5572\n",
    "print(f\"The Proportion of Ham and Spam labels in the whole dataset is: Spam = {Pspam:.3f}, Ham = {Pham:.3f}\")"
   ]
  },
  {
   "cell_type": "markdown",
   "metadata": {
    "id": "1WJHwAA6kf6k"
   },
   "source": [
    "Adding different metrics to determine Spam/Ham Class of message"
   ]
  },
  {
   "cell_type": "code",
   "execution_count": 4,
   "metadata": {},
   "outputs": [
    {
     "data": {
      "text/html": [
       "<div>\n",
       "<style scoped>\n",
       "    .dataframe tbody tr th:only-of-type {\n",
       "        vertical-align: middle;\n",
       "    }\n",
       "\n",
       "    .dataframe tbody tr th {\n",
       "        vertical-align: top;\n",
       "    }\n",
       "\n",
       "    .dataframe thead th {\n",
       "        text-align: right;\n",
       "    }\n",
       "</style>\n",
       "<table border=\"1\" class=\"dataframe\">\n",
       "  <thead>\n",
       "    <tr style=\"text-align: right;\">\n",
       "      <th></th>\n",
       "      <th>label</th>\n",
       "      <th>message</th>\n",
       "      <th>length</th>\n",
       "      <th>caps</th>\n",
       "      <th>misc</th>\n",
       "    </tr>\n",
       "  </thead>\n",
       "  <tbody>\n",
       "    <tr>\n",
       "      <th>0</th>\n",
       "      <td>ham</td>\n",
       "      <td>Go until jurong point, crazy.. Available only ...</td>\n",
       "      <td>111</td>\n",
       "      <td>3</td>\n",
       "      <td>9</td>\n",
       "    </tr>\n",
       "    <tr>\n",
       "      <th>1</th>\n",
       "      <td>ham</td>\n",
       "      <td>Ok lar... Joking wif u oni...</td>\n",
       "      <td>29</td>\n",
       "      <td>2</td>\n",
       "      <td>6</td>\n",
       "    </tr>\n",
       "    <tr>\n",
       "      <th>2</th>\n",
       "      <td>spam</td>\n",
       "      <td>Free entry in 2 a wkly comp to win FA Cup fina...</td>\n",
       "      <td>155</td>\n",
       "      <td>10</td>\n",
       "      <td>6</td>\n",
       "    </tr>\n",
       "    <tr>\n",
       "      <th>3</th>\n",
       "      <td>ham</td>\n",
       "      <td>U dun say so early hor... U c already then say...</td>\n",
       "      <td>49</td>\n",
       "      <td>2</td>\n",
       "      <td>6</td>\n",
       "    </tr>\n",
       "    <tr>\n",
       "      <th>4</th>\n",
       "      <td>ham</td>\n",
       "      <td>Nah I don't think he goes to usf, he lives aro...</td>\n",
       "      <td>61</td>\n",
       "      <td>2</td>\n",
       "      <td>2</td>\n",
       "    </tr>\n",
       "  </tbody>\n",
       "</table>\n",
       "</div>"
      ],
      "text/plain": [
       "  label                                            message  length  caps  misc\n",
       "0   ham  Go until jurong point, crazy.. Available only ...     111     3     9\n",
       "1   ham                      Ok lar... Joking wif u oni...      29     2     6\n",
       "2  spam  Free entry in 2 a wkly comp to win FA Cup fina...     155    10     6\n",
       "3   ham  U dun say so early hor... U c already then say...      49     2     6\n",
       "4   ham  Nah I don't think he goes to usf, he lives aro...      61     2     2"
      ]
     },
     "execution_count": 4,
     "metadata": {},
     "output_type": "execute_result"
    }
   ],
   "source": [
    "#A\n",
    "import re\n",
    "\n",
    "lengthlist = []\n",
    "capslist = []\n",
    "misclist = []\n",
    "for i in df['message']:\n",
    "    msglength = len(i)\n",
    "    lengthlist.append(msglength) #Message Length\n",
    "    \n",
    "\n",
    "for i in df['message']:\n",
    "    msgcaps = len(re.findall(r'[A-Z]', i))    \n",
    "    capslist.append(msgcaps) #Message Capital Letters\n",
    "\n",
    "for i in df['message']:\n",
    "    misclength = len(re.findall(r'[^\\s\\d\\w]', i))\n",
    "    misclist.append(misclength)  # Number of non-number, non-digit characters in message  \n",
    "      \n",
    "df['length'] = lengthlist \n",
    "df['caps'] = capslist\n",
    "df['misc'] = misclist\n",
    "df.head()\n"
   ]
  },
  {
   "cell_type": "code",
   "execution_count": 5,
   "metadata": {},
   "outputs": [],
   "source": [
    "from scipy.stats import multivariate_normal\n",
    "from sklearn.model_selection import train_test_split\n",
    "\n",
    "Conditions = [(df['label'] == 'ham'), (df['label'] == 'spam')]\n",
    "label = [0,1] #dummy coding the categorical variables into numbers\n",
    "\n",
    "df['label0'] = np.select(Conditions, label)"
   ]
  },
  {
   "cell_type": "code",
   "execution_count": 6,
   "metadata": {},
   "outputs": [],
   "source": [
    "#Length Bayes Classifier\n",
    "np.random.seed(5)\n",
    "X_tr, X_te, y_tr, y_te = train_test_split(df[['length']], df.label0, test_size=0.2)"
   ]
  },
  {
   "cell_type": "code",
   "execution_count": 7,
   "metadata": {},
   "outputs": [],
   "source": [
    "mean0 = np.mean(X_tr[y_tr == 0], axis=0)\n",
    "mean1 = np.mean(X_tr[y_tr == 1], axis=0)\n",
    "cov0 = np.cov(X_tr[y_tr == 0].T)\n",
    "cov1 = np.cov(X_tr[y_tr == 1].T)\n",
    "pY0 = 1 - np.mean(y_tr)\n",
    "pY1 = np.mean(y_tr)"
   ]
  },
  {
   "cell_type": "code",
   "execution_count": 8,
   "metadata": {},
   "outputs": [
    {
     "name": "stdout",
     "output_type": "stream",
     "text": [
      "Message Length Bayes Classifier Test Accuracy = 0.870\n"
     ]
    }
   ],
   "source": [
    "norm = multivariate_normal.pdf\n",
    "\n",
    "pXxY0 = norm(X_te, mean=mean0, cov=cov0, allow_singular=True)\n",
    "pXxY1 = norm(X_te, mean=mean1, cov=cov1, allow_singular=True)\n",
    "pY1Xx = pXxY1*pY1/(pXxY0*pY0 + pXxY1*pY1)\n",
    "\n",
    "LengthAcc = np.mean(1*(pY1Xx > 0.5) == y_te)\n",
    "print(f\"Message Length Bayes Classifier Test Accuracy = {LengthAcc:.3f}\")"
   ]
  },
  {
   "cell_type": "code",
   "execution_count": 9,
   "metadata": {},
   "outputs": [
    {
     "name": "stdout",
     "output_type": "stream",
     "text": [
      "Capital Letter Bayes Classifier Test Accuracy = 0.857\n"
     ]
    }
   ],
   "source": [
    "#Capital Letters Bayes Classifier\n",
    "np.random.seed(5)\n",
    "X_tr, X_te, y_tr, y_te = train_test_split(df[['caps']], df.label0, test_size=0.2)\n",
    "mean0 = np.mean(X_tr[y_tr == 0], axis=0)\n",
    "mean1 = np.mean(X_tr[y_tr == 1], axis=0)\n",
    "cov0 = np.cov(X_tr[y_tr == 0].T) \n",
    "cov1 = np.cov(X_tr[y_tr == 1].T)\n",
    "pY0 = 1 - np.mean(y_tr)\n",
    "pY1 = np.mean(y_tr)\n",
    "\n",
    "pXxY0 = norm(X_te, mean=mean0, cov=cov0, allow_singular=True)\n",
    "pXxY1 = norm(X_te, mean=mean1, cov=cov1, allow_singular=True)\n",
    "pY1Xx = pXxY1*pY1/(pXxY0*pY0 + pXxY1*pY1)\n",
    "\n",
    "CapAcc = np.mean(1*(pY1Xx > 0.5) == y_te)\n",
    "print(f\"Capital Letter Bayes Classifier Test Accuracy = {CapAcc:.3f}\")\n"
   ]
  },
  {
   "cell_type": "code",
   "execution_count": 10,
   "metadata": {},
   "outputs": [
    {
     "name": "stdout",
     "output_type": "stream",
     "text": [
      "Misc Character Bayes Test Accuracy = 0.870\n"
     ]
    }
   ],
   "source": [
    "#Misc Characters Bayes Classifier\n",
    "np.random.seed(5)\n",
    "X_tr, X_te, y_tr, y_te = train_test_split(df[['misc']], df.label0, test_size=0.2)\n",
    "mean0 = np.mean(X_tr[y_tr == 0], axis=0)\n",
    "mean1 = np.mean(X_tr[y_tr == 1], axis=0)\n",
    "cov0 = np.cov(X_tr[y_tr == 0].T) \n",
    "cov1 = np.cov(X_tr[y_tr == 1].T)\n",
    "pY0 = 1 - np.mean(y_tr)\n",
    "pY1 = np.mean(y_tr)\n",
    "\n",
    "pXxY0 = norm(X_te, mean=mean0, cov=cov0, allow_singular=True)\n",
    "pXxY1 = norm(X_te, mean=mean1, cov=cov1, allow_singular=True)\n",
    "pY1Xx = pXxY1*pY1/(pXxY0*pY0 + pXxY1*pY1)\n",
    "\n",
    "MiscAcc = np.mean(1*(pY1Xx > 0.5) == y_te)\n",
    "print(f\"Misc Character Bayes Test Accuracy = {MiscAcc:.3f}\")\n"
   ]
  },
  {
   "cell_type": "code",
   "execution_count": 11,
   "metadata": {},
   "outputs": [
    {
     "data": {
      "text/html": [
       "<div>\n",
       "<style scoped>\n",
       "    .dataframe tbody tr th:only-of-type {\n",
       "        vertical-align: middle;\n",
       "    }\n",
       "\n",
       "    .dataframe tbody tr th {\n",
       "        vertical-align: top;\n",
       "    }\n",
       "\n",
       "    .dataframe thead th {\n",
       "        text-align: right;\n",
       "    }\n",
       "</style>\n",
       "<table border=\"1\" class=\"dataframe\">\n",
       "  <thead>\n",
       "    <tr style=\"text-align: right;\">\n",
       "      <th></th>\n",
       "      <th>Accuracy</th>\n",
       "    </tr>\n",
       "  </thead>\n",
       "  <tbody>\n",
       "    <tr>\n",
       "      <th>Message Length Bayes Classifier</th>\n",
       "      <td>0.869955</td>\n",
       "    </tr>\n",
       "    <tr>\n",
       "      <th>Capital Letter Bayes Classifier</th>\n",
       "      <td>0.856502</td>\n",
       "    </tr>\n",
       "    <tr>\n",
       "      <th>Misc Character Bayes Classifier</th>\n",
       "      <td>0.869955</td>\n",
       "    </tr>\n",
       "    <tr>\n",
       "      <th>GNB Classifier</th>\n",
       "      <td>0.904933</td>\n",
       "    </tr>\n",
       "  </tbody>\n",
       "</table>\n",
       "</div>"
      ],
      "text/plain": [
       "                                 Accuracy\n",
       "Message Length Bayes Classifier  0.869955\n",
       "Capital Letter Bayes Classifier  0.856502\n",
       "Misc Character Bayes Classifier  0.869955\n",
       "GNB Classifier                   0.904933"
      ]
     },
     "execution_count": 11,
     "metadata": {},
     "output_type": "execute_result"
    }
   ],
   "source": [
    "#Naive Bayes Classifier\n",
    "#Classifier assumes indepdence between the predictor variables\n",
    "from sklearn.naive_bayes import GaussianNB\n",
    "np.random.seed(5)\n",
    "X_tr, X_te, y_tr, y_te = train_test_split(df[['length', 'caps', 'misc']], df.label0, test_size=0.2)\n",
    "\n",
    "\n",
    "gnb = GaussianNB()\n",
    "y_pred = gnb.fit(X_tr, y_tr).predict(X_te)\n",
    "\n",
    "NBAcc = 1- ((y_te != y_pred).sum()/y_te.count())\n",
    "\n",
    "results = pd.DataFrame([LengthAcc,CapAcc,MiscAcc, NBAcc], \n",
    "                       ['Message Length Bayes Classifier','Capital Letter Bayes Classifier','Misc Character Bayes Classifier', 'GNB Classifier'],\n",
    "                      columns = ['Accuracy'])\n",
    "results\n",
    "# GNB classifier shows better predicitve accuracy for Spam and Ham labels compared to the other single predictor classifiers"
   ]
  },
  {
   "cell_type": "code",
   "execution_count": 13,
   "metadata": {},
   "outputs": [
    {
     "name": "stdout",
     "output_type": "stream",
     "text": [
      "Message Digit Count Classifier Test accuracy = 0.973\n"
     ]
    }
   ],
   "source": [
    "\n",
    "digitlist = []\n",
    "for i in df['message']:\n",
    "    msgdig = len(re.findall(r'[0-9]', i))    \n",
    "    digitlist.append(msgdig)\n",
    "    \n",
    "df['digits'] = digitlist \n",
    "\n",
    "np.random.seed(5)\n",
    "X_tr, X_te, y_tr, y_te = train_test_split(df[['digits']], df.label0, test_size=0.2)\n",
    "mean0 = np.mean(X_tr[y_tr == 0], axis=0)\n",
    "mean1 = np.mean(X_tr[y_tr == 1], axis=0)\n",
    "cov0 = np.cov(X_tr[y_tr == 0].T) \n",
    "cov1 = np.cov(X_tr[y_tr == 1].T)\n",
    "pY0 = 1 - np.mean(y_tr)\n",
    "pY1 = np.mean(y_tr)\n",
    "\n",
    "pXxY0 = norm(X_te, mean=mean0, cov=cov0, allow_singular=True)\n",
    "pXxY1 = norm(X_te, mean=mean1, cov=cov1, allow_singular=True)\n",
    "pY1Xx = pXxY1*pY1/(pXxY0*pY0 + pXxY1*pY1)\n",
    "\n",
    "DigitAcc = np.mean(1*(pY1Xx > 0.5) == y_te)\n",
    "print(f\"Message Digit Count Classifier Test accuracy = {DigitAcc:.3f}\")\n",
    "\n",
    "#The number of digits in a message provides a much better predictor model compared to the other classifiers created before\n",
    "#This shows that the predictors used (or domain knowledge) plays a strong role in creating good models.  "
   ]
  },
  {
   "cell_type": "code",
   "execution_count": 15,
   "metadata": {},
   "outputs": [
    {
     "name": "stdout",
     "output_type": "stream",
     "text": [
      "MultinomialNB message vectorized classifier accuracy: 0.982\n"
     ]
    }
   ],
   "source": [
    "#E\n",
    "from sklearn.naive_bayes import MultinomialNB\n",
    "from sklearn.feature_extraction.text import CountVectorizer\n",
    "from sklearn.naive_bayes import GaussianNB\n",
    "\n",
    "X_tr, X_te, y_tr, y_te = train_test_split(df.message, df.label0, test_size=0.2)\n",
    "\n",
    "model = MultinomialNB()\n",
    "vectorizer = CountVectorizer()\n",
    "model.fit(vectorizer.fit_transform(X_tr), y_tr)\n",
    "y_pred = model.predict(vectorizer.transform(X_te))\n",
    "VecAcc = 1- ((y_te != y_pred).sum()/y_te.count())\n",
    "print(f\"MultinomialNB message vectorized classifier accuracy: {VecAcc:.3f}\")\n"
   ]
  },
  {
   "cell_type": "code",
   "execution_count": 17,
   "metadata": {},
   "outputs": [
    {
     "data": {
      "text/html": [
       "<div>\n",
       "<style scoped>\n",
       "    .dataframe tbody tr th:only-of-type {\n",
       "        vertical-align: middle;\n",
       "    }\n",
       "\n",
       "    .dataframe tbody tr th {\n",
       "        vertical-align: top;\n",
       "    }\n",
       "\n",
       "    .dataframe thead th {\n",
       "        text-align: right;\n",
       "    }\n",
       "</style>\n",
       "<table border=\"1\" class=\"dataframe\">\n",
       "  <thead>\n",
       "    <tr style=\"text-align: right;\">\n",
       "      <th></th>\n",
       "      <th>Accuracy</th>\n",
       "    </tr>\n",
       "  </thead>\n",
       "  <tbody>\n",
       "    <tr>\n",
       "      <th>Message Length Bayes Classifier</th>\n",
       "      <td>0.869955</td>\n",
       "    </tr>\n",
       "    <tr>\n",
       "      <th>Capital Letter Bayes Classifier</th>\n",
       "      <td>0.856502</td>\n",
       "    </tr>\n",
       "    <tr>\n",
       "      <th>Misc Character Bayes Classifier</th>\n",
       "      <td>0.869955</td>\n",
       "    </tr>\n",
       "    <tr>\n",
       "      <th>GB Classifier</th>\n",
       "      <td>0.904933</td>\n",
       "    </tr>\n",
       "    <tr>\n",
       "      <th>Message Digit Classiier</th>\n",
       "      <td>0.973094</td>\n",
       "    </tr>\n",
       "    <tr>\n",
       "      <th>CV MultinomialNB Classifier</th>\n",
       "      <td>0.982063</td>\n",
       "    </tr>\n",
       "  </tbody>\n",
       "</table>\n",
       "</div>"
      ],
      "text/plain": [
       "                                 Accuracy\n",
       "Message Length Bayes Classifier  0.869955\n",
       "Capital Letter Bayes Classifier  0.856502\n",
       "Misc Character Bayes Classifier  0.869955\n",
       "GB Classifier                    0.904933\n",
       "Message Digit Classiier          0.973094\n",
       "CV MultinomialNB Classifier      0.982063"
      ]
     },
     "metadata": {},
     "output_type": "display_data"
    }
   ],
   "source": [
    "results = pd.DataFrame([LengthAcc,CapAcc,MiscAcc, NBAcc, DigitAcc, VecAcc], \n",
    "                       ['Message Length Bayes Classifier','Capital Letter Bayes Classifier','Misc Character Bayes Classifier',\n",
    "                     'GB Classifier', 'Message Digit Classiier', 'CV MultinomialNB Classifier' ],\n",
    "                      columns = ['Accuracy'])\n",
    "\n",
    "display(results)\n"
   ]
  },
  {
   "cell_type": "markdown",
   "metadata": {},
   "source": [
    "\n",
    "The Multinomial Naive Bayes classifier trained on the vectorized message shows the best predictive accuracy\n",
    "compared to all the other approaches. This is likely due to the fact it takes in significantly more information in \n",
    "order to build the classifier.  Value counts of every type of character in each message are used to determine\n",
    "the difference in the amount found in Spam or Ham messages. This is different from the simple Bayes classifiers used \n"
   ]
  },
  {
   "cell_type": "markdown",
   "metadata": {
    "id": "YDsDUa6IybiS"
   },
   "source": [
    "## 2. Distance-$h$ neighbors; broadcasting"
   ]
  },
  {
   "cell_type": "markdown",
   "metadata": {
    "id": "lRCwCk1oywTj"
   },
   "source": [
    "- In this exercise, we implement a simple, 1-dimensional $h$-radius neighbors regressor. To practice broadcasting, **do this without using any loops**.\n",
    "\n",
    "- The $k$-nearest neighbors regressor maps to $x$ to the average of the $y$-values of $k$ training points whose $x$-coordinates are closest to $x$.\n",
    "\n",
    "- The distance-$h$ neighbors regressor maps $x$ to the average of the $y$-values of the training points whose $x$-coordinates are within a distance $h$ of $x$. (The number of such training points will vary with $x$.)"
   ]
  },
  {
   "cell_type": "markdown",
   "metadata": {
    "id": "AK3RTrlu0OdM"
   },
   "source": [
    "a. Write a function `make_mask` that constructs a *distance-$h$ mask* for a training data matrix `X_tr` with respect to a testing data matrix `X_te`. It should take `X_tr`, `X_te`, and `h` as inputs and return a `len(X_tr)`-by-`len(X_te)` matrix `mask` whose `[i,j]`-entry is `1` if the distance from `X_tr[i]` to `X_te[j]` is `< h` and `0`, otherwise."
   ]
  },
  {
   "cell_type": "code",
   "execution_count": 18,
   "metadata": {
    "id": "Cc9BTWjv0twu"
   },
   "outputs": [],
   "source": [
    "\n",
    "'''\n",
    "X_tr = np.random.uniform(size=5)\n",
    "X_te = np.linspace(0, 1, 5)\n",
    "y_tr = (X_tr - 0.5)**2 + 0.05*np.random.normal(size=5)\n",
    "'''\n",
    "def make_mask(X_tr, X_te, h):\n",
    "    mask = (abs(X_tr.reshape(-1,1)) - abs(X_te))\n",
    "    masked_array = np.where(abs(mask) < h, 1, 0)\n",
    "    return masked_array\n"
   ]
  },
  {
   "cell_type": "markdown",
   "metadata": {
    "id": "HakAzsnBz8Jz"
   },
   "source": [
    "Use `make_mask` function to construct a python class implementing the distance-$h$ neighbors regressor by fleshing out `predict` method below:"
   ]
  },
  {
   "cell_type": "code",
   "execution_count": 19,
   "metadata": {
    "id": "FxmR3jkR2MCr"
   },
   "outputs": [],
   "source": [
    "from sklearn.base import BaseEstimator, RegressorMixin\n",
    "\n",
    "class DistanceRegressor(BaseEstimator, RegressorMixin):\n",
    "  def __init__(self, h=None):\n",
    "    if h is None:\n",
    "      raise \"You forgot the h!\"\n",
    "    self.h = h\n",
    "\n",
    "  def fit(self, X_tr, y_tr):\n",
    "    self.X_tr = X_tr\n",
    "    self.y_tr = y_tr\n",
    "\n",
    "  def predict(self, X_te):\n",
    "    y_training = np.sum(y_tr.reshape(-1,1)*make_mask(X_tr, X_te, self.h), axis = 0)\n",
    "    n = np.sum(make_mask(X_tr, X_te, self.h),axis = 0)\n",
    "    return y_training/n"
   ]
  },
  {
   "cell_type": "markdown",
   "metadata": {
    "id": "nwJmqi3w4bVR"
   },
   "source": [
    "Showing the Broadcasting Example"
   ]
  },
  {
   "cell_type": "code",
   "execution_count": 20,
   "metadata": {
    "colab": {
     "base_uri": "https://localhost:8080/",
     "height": 265
    },
    "id": "o0cpKVPS2RWf",
    "outputId": "80fb8e47-d4a0-4bab-e811-97350f0ae41f"
   },
   "outputs": [
    {
     "data": {
      "image/png": "[encoded data removed]",
      "text/plain": [
       "<Figure size 432x288 with 1 Axes>"
      ]
     },
     "metadata": {
      "needs_background": "light"
     },
     "output_type": "display_data"
    }
   ],
   "source": [
    "np.random.seed(42)\n",
    "X_tr = np.random.uniform(size=50)\n",
    "y_tr = (X_tr - 0.5)**2 + 0.05*np.random.normal(size=50)\n",
    "\n",
    "model = DistanceRegressor(h=0.1)\n",
    "model.fit(X_tr, y_tr)\n",
    "\n",
    "X_te = np.linspace(0, 1, 100)\n",
    "y_pred = model.predict(X_te) # uncomment when you've implemented DistanceRegressor\n",
    "plt.plot(X_tr, y_tr, 'o') \n",
    "plt.plot(X_te, y_pred, lw=3) # uncomment when you've implemented DistanceRegressor\n",
    "plt.show()"
   ]
  },
  {
   "cell_type": "code",
   "execution_count": null,
   "metadata": {
    "id": "3l2A9aP23lhS"
   },
   "outputs": [],
   "source": []
  }
 ],
 "metadata": {
  "colab": {
   "collapsed_sections": [],
   "name": "DATA_607__Assignment_1.ipynb",
   "provenance": []
  },
  "kernelspec": {
   "display_name": "Python 3",
   "language": "python",
   "name": "python3"
  },
  "language_info": {
   "codemirror_mode": {
    "name": "ipython",
    "version": 3
   },
   "file_extension": ".py",
   "mimetype": "text/x-python",
   "name": "python",
   "nbconvert_exporter": "python",
   "pygments_lexer": "ipython3",
   "version": "3.8.5"
  }
 },
 "nbformat": 4,
 "nbformat_minor": 1
}
