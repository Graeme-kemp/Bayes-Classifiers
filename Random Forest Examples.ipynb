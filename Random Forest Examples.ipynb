{
 "cells": [
  {
   "cell_type": "markdown",
   "metadata": {
    "id": "ybHrMoZZ7hIO"
   },
   "source": [
    "## Random Forest Classifier Examples"
   ]
  },
  {
   "cell_type": "markdown",
   "metadata": {
    "id": "qTMSGJvg1JMK"
   },
   "source": [
    "This example shows how to develop a random forest classifier for Spam messages.  \n",
    " \n",
    "- Using a dataset from the UCI machine learning repository. Details can be found here [here](https://archive.ics.uci.edu/ml/datasets/SMS+Spam+Collection)."
   ]
  },
  {
   "cell_type": "code",
   "execution_count": 15,
   "metadata": {
    "id": "2vU7Cm3h7a_S"
   },
   "outputs": [
    {
     "data": {
      "text/html": [
       "<div>\n",
       "<style scoped>\n",
       "    .dataframe tbody tr th:only-of-type {\n",
       "        vertical-align: middle;\n",
       "    }\n",
       "\n",
       "    .dataframe tbody tr th {\n",
       "        vertical-align: top;\n",
       "    }\n",
       "\n",
       "    .dataframe thead th {\n",
       "        text-align: right;\n",
       "    }\n",
       "</style>\n",
       "<table border=\"1\" class=\"dataframe\">\n",
       "  <thead>\n",
       "    <tr style=\"text-align: right;\">\n",
       "      <th></th>\n",
       "      <th>label</th>\n",
       "      <th>message</th>\n",
       "    </tr>\n",
       "  </thead>\n",
       "  <tbody>\n",
       "    <tr>\n",
       "      <th>0</th>\n",
       "      <td>ham</td>\n",
       "      <td>Go until jurong point, crazy.. Available only ...</td>\n",
       "    </tr>\n",
       "    <tr>\n",
       "      <th>1</th>\n",
       "      <td>ham</td>\n",
       "      <td>Ok lar... Joking wif u oni...</td>\n",
       "    </tr>\n",
       "    <tr>\n",
       "      <th>2</th>\n",
       "      <td>spam</td>\n",
       "      <td>Free entry in 2 a wkly comp to win FA Cup fina...</td>\n",
       "    </tr>\n",
       "    <tr>\n",
       "      <th>3</th>\n",
       "      <td>ham</td>\n",
       "      <td>U dun say so early hor... U c already then say...</td>\n",
       "    </tr>\n",
       "    <tr>\n",
       "      <th>4</th>\n",
       "      <td>ham</td>\n",
       "      <td>Nah I don't think he goes to usf, he lives aro...</td>\n",
       "    </tr>\n",
       "  </tbody>\n",
       "</table>\n",
       "</div>"
      ],
      "text/plain": [
       "  label                                            message\n",
       "0   ham  Go until jurong point, crazy.. Available only ...\n",
       "1   ham                      Ok lar... Joking wif u oni...\n",
       "2  spam  Free entry in 2 a wkly comp to win FA Cup fina...\n",
       "3   ham  U dun say so early hor... U c already then say...\n",
       "4   ham  Nah I don't think he goes to usf, he lives aro..."
      ]
     },
     "execution_count": 15,
     "metadata": {},
     "output_type": "execute_result"
    }
   ],
   "source": [
    "import pandas as pd\n",
    "import numpy as np\n",
    "import matplotlib.pyplot as plt\n",
    "\n",
    "file = \"https://raw.githubusercontent.com/Graeme-kemp/Classifiers/main/SMSSpamCollection.csv\"\n",
    "df = pd.read_csv(file, encoding=\"latin-1\", sep='\\t', header = None)\n",
    "df.columns = ['label', 'message']\n",
    "df.head()"
   ]
  },
  {
   "cell_type": "markdown",
   "metadata": {},
   "source": [
    "### 1) A"
   ]
  },
  {
   "cell_type": "code",
   "execution_count": 16,
   "metadata": {},
   "outputs": [],
   "source": [
    "from sklearn.feature_extraction.text import CountVectorizer\n",
    "from matplotlib import pyplot as plt\n",
    "from sklearn.model_selection import train_test_split\n",
    "from sklearn.ensemble import RandomForestClassifier"
   ]
  },
  {
   "cell_type": "code",
   "execution_count": 18,
   "metadata": {},
   "outputs": [],
   "source": [
    "np.random.seed(42)\n",
    "X_tr, X_te, y_tr, y_te = train_test_split(df['message'], df['label'], test_size=0.2)\n",
    "vectorizer = CountVectorizer()"
   ]
  },
  {
   "cell_type": "code",
   "execution_count": 19,
   "metadata": {},
   "outputs": [
    {
     "name": "stdout",
     "output_type": "stream",
     "text": [
      "Testing error: 0.02\n"
     ]
    }
   ],
   "source": [
    "rf = RandomForestClassifier(n_estimators=100)\n",
    "rf.fit(vectorizer.fit_transform(X_tr), y_tr)\n",
    "y_pred = rf.predict(vectorizer.transform(X_te))\n",
    "print(f\"Testing error: {np.mean(y_pred != y_te):.2f}\")"
   ]
  },
  {
   "cell_type": "code",
   "execution_count": 21,
   "metadata": {},
   "outputs": [
    {
     "data": {
      "text/html": [
       "<div>\n",
       "<style scoped>\n",
       "    .dataframe tbody tr th:only-of-type {\n",
       "        vertical-align: middle;\n",
       "    }\n",
       "\n",
       "    .dataframe tbody tr th {\n",
       "        vertical-align: top;\n",
       "    }\n",
       "\n",
       "    .dataframe thead th {\n",
       "        text-align: right;\n",
       "    }\n",
       "</style>\n",
       "<table border=\"1\" class=\"dataframe\">\n",
       "  <thead>\n",
       "    <tr style=\"text-align: right;\">\n",
       "      <th></th>\n",
       "      <th>0</th>\n",
       "      <th>1</th>\n",
       "    </tr>\n",
       "  </thead>\n",
       "  <tbody>\n",
       "    <tr>\n",
       "      <th>1611</th>\n",
       "      <td>call</td>\n",
       "      <td>0.027409</td>\n",
       "    </tr>\n",
       "    <tr>\n",
       "      <th>7076</th>\n",
       "      <td>txt</td>\n",
       "      <td>0.023876</td>\n",
       "    </tr>\n",
       "    <tr>\n",
       "      <th>4535</th>\n",
       "      <td>mobile</td>\n",
       "      <td>0.018627</td>\n",
       "    </tr>\n",
       "    <tr>\n",
       "      <th>7628</th>\n",
       "      <td>www</td>\n",
       "      <td>0.015829</td>\n",
       "    </tr>\n",
       "    <tr>\n",
       "      <th>1823</th>\n",
       "      <td>claim</td>\n",
       "      <td>0.015041</td>\n",
       "    </tr>\n",
       "  </tbody>\n",
       "</table>\n",
       "</div>"
      ],
      "text/plain": [
       "           0         1\n",
       "1611    call  0.027409\n",
       "7076     txt  0.023876\n",
       "4535  mobile  0.018627\n",
       "7628     www  0.015829\n",
       "1823   claim  0.015041"
      ]
     },
     "execution_count": 21,
     "metadata": {},
     "output_type": "execute_result"
    }
   ],
   "source": [
    "feat_df=pd.DataFrame(zip(list(vectorizer.get_feature_names()), rf.feature_importances_))\n",
    "sorted_features = feat_df.sort_values(by=[1], ascending = False)\n",
    "sorted_features.head(5)"
   ]
  },
  {
   "cell_type": "code",
   "execution_count": 22,
   "metadata": {},
   "outputs": [
    {
     "data": {
      "image/png": "[encoded data removed]",
      "text/plain": [
       "<Figure size 720x720 with 1 Axes>"
      ]
     },
     "metadata": {
      "needs_background": "light"
     },
     "output_type": "display_data"
    }
   ],
   "source": [
    "top30text = sorted_features.iloc[0:30,:]\n",
    "top30text = top30text.sort_values(by=[1], ascending = True)\n",
    "\n",
    "plt.figure(figsize=(10, 10))\n",
    "plt.title(\"Top 30 Words Feature Importance\", fontsize=14)\n",
    "plt.barh(top30text[0], top30text[1])\n",
    "plt.show()"
   ]
  },
  {
   "cell_type": "markdown",
   "metadata": {},
   "source": [
    "The above graph shows the top 30 individual words that contribute to the random forest classifier. In this dataset, the word 'call' is the most useful word that allows the random forest classifier to determine whether an email is spam.  "
   ]
  },
  {
   "cell_type": "markdown",
   "metadata": {},
   "source": [
    "### 1) Random Forest - Individual character classifier"
   ]
  },
  {
   "cell_type": "code",
   "execution_count": 23,
   "metadata": {},
   "outputs": [
    {
     "name": "stdout",
     "output_type": "stream",
     "text": [
      "Testing error: 0.02\n"
     ]
    }
   ],
   "source": [
    "np.random.seed(42)\n",
    "X_tr, X_te, y_tr, y_te = train_test_split(df['message'], df['label'], test_size=0.2, random_state=42)\n",
    "vectorizer = CountVectorizer(analyzer=\"char\")\n",
    "rf = RandomForestClassifier(n_estimators=100)\n",
    "rf.fit(vectorizer.fit_transform(X_tr), y_tr)\n",
    "y_pred = rf.predict(vectorizer.transform(X_te))\n",
    "print(f\"Testing error: {np.mean(y_pred != y_te):.2f}\")"
   ]
  },
  {
   "cell_type": "code",
   "execution_count": 24,
   "metadata": {},
   "outputs": [
    {
     "data": {
      "text/html": [
       "<div>\n",
       "<style scoped>\n",
       "    .dataframe tbody tr th:only-of-type {\n",
       "        vertical-align: middle;\n",
       "    }\n",
       "\n",
       "    .dataframe tbody tr th {\n",
       "        vertical-align: top;\n",
       "    }\n",
       "\n",
       "    .dataframe thead th {\n",
       "        text-align: right;\n",
       "    }\n",
       "</style>\n",
       "<table border=\"1\" class=\"dataframe\">\n",
       "  <thead>\n",
       "    <tr style=\"text-align: right;\">\n",
       "      <th></th>\n",
       "      <th>0</th>\n",
       "      <th>1</th>\n",
       "    </tr>\n",
       "  </thead>\n",
       "  <tbody>\n",
       "    <tr>\n",
       "      <th>16</th>\n",
       "      <td>0</td>\n",
       "      <td>0.193848</td>\n",
       "    </tr>\n",
       "    <tr>\n",
       "      <th>24</th>\n",
       "      <td>8</td>\n",
       "      <td>0.103336</td>\n",
       "    </tr>\n",
       "    <tr>\n",
       "      <th>17</th>\n",
       "      <td>1</td>\n",
       "      <td>0.083470</td>\n",
       "    </tr>\n",
       "    <tr>\n",
       "      <th>21</th>\n",
       "      <td>5</td>\n",
       "      <td>0.079123</td>\n",
       "    </tr>\n",
       "    <tr>\n",
       "      <th>23</th>\n",
       "      <td>7</td>\n",
       "      <td>0.058483</td>\n",
       "    </tr>\n",
       "  </tbody>\n",
       "</table>\n",
       "</div>"
      ],
      "text/plain": [
       "    0         1\n",
       "16  0  0.193848\n",
       "24  8  0.103336\n",
       "17  1  0.083470\n",
       "21  5  0.079123\n",
       "23  7  0.058483"
      ]
     },
     "execution_count": 24,
     "metadata": {},
     "output_type": "execute_result"
    }
   ],
   "source": [
    "feat_df=pd.DataFrame(zip(list(vectorizer.get_feature_names()), rf.feature_importances_))\n",
    "sorted_features = feat_df.sort_values(by=[1], ascending = False)\n",
    "sorted_features.head(5)"
   ]
  },
  {
   "cell_type": "code",
   "execution_count": 25,
   "metadata": {},
   "outputs": [
    {
     "data": {
      "image/png": "[encoded data removed]",
      "text/plain": [
       "<Figure size 720x720 with 1 Axes>"
      ]
     },
     "metadata": {
      "needs_background": "light"
     },
     "output_type": "display_data"
    }
   ],
   "source": [
    "top30char = sorted_features.iloc[0:30,:]\n",
    "top30char = top30char.sort_values(by=[1], ascending = True)\n",
    "\n",
    "plt.figure(figsize=(10, 10))\n",
    "plt.title(\"Top 30 Char Feature Importance\", fontsize=14)\n",
    "plt.barh(top30char[0], top30char[1])\n",
    "plt.show()"
   ]
  },
  {
   "cell_type": "markdown",
   "metadata": {},
   "source": [
    "The 'char' vectorized classifier that was built using the Random Forest method is compatible with the results seen with a bayes Classifier on the same dataset. the number of digits was the strongest signal/predictor for determining the Spam/Ham classification. You see this in the 'char' vectorizer feature improtance graph as digits were among the most important predictors and contributed the most in the classification.   "
   ]
  },
  {
   "cell_type": "markdown",
   "metadata": {},
   "source": [
    "### 2) MultinomialNB Classifier for Movie Reviews"
   ]
  },
  {
   "cell_type": "code",
   "execution_count": 45,
   "metadata": {},
   "outputs": [
    {
     "data": {
      "text/html": [
       "<div>\n",
       "<style scoped>\n",
       "    .dataframe tbody tr th:only-of-type {\n",
       "        vertical-align: middle;\n",
       "    }\n",
       "\n",
       "    .dataframe tbody tr th {\n",
       "        vertical-align: top;\n",
       "    }\n",
       "\n",
       "    .dataframe thead th {\n",
       "        text-align: right;\n",
       "    }\n",
       "</style>\n",
       "<table border=\"1\" class=\"dataframe\">\n",
       "  <thead>\n",
       "    <tr style=\"text-align: right;\">\n",
       "      <th></th>\n",
       "      <th>review</th>\n",
       "      <th>positive</th>\n",
       "    </tr>\n",
       "  </thead>\n",
       "  <tbody>\n",
       "    <tr>\n",
       "      <th>0</th>\n",
       "      <td>The Adventures of Sebastian Cole is about a bo...</td>\n",
       "      <td>0</td>\n",
       "    </tr>\n",
       "    <tr>\n",
       "      <th>1</th>\n",
       "      <td>if they gave me the option of negative numbers...</td>\n",
       "      <td>0</td>\n",
       "    </tr>\n",
       "    <tr>\n",
       "      <th>2</th>\n",
       "      <td>The only thing in \"Sudden Death\" that outdoes ...</td>\n",
       "      <td>0</td>\n",
       "    </tr>\n",
       "    <tr>\n",
       "      <th>3</th>\n",
       "      <td>Apparently none of the previous reviewers,most...</td>\n",
       "      <td>0</td>\n",
       "    </tr>\n",
       "    <tr>\n",
       "      <th>4</th>\n",
       "      <td>Looking at these reviews and seeing all these ...</td>\n",
       "      <td>0</td>\n",
       "    </tr>\n",
       "  </tbody>\n",
       "</table>\n",
       "</div>"
      ],
      "text/plain": [
       "                                              review  positive\n",
       "0  The Adventures of Sebastian Cole is about a bo...         0\n",
       "1  if they gave me the option of negative numbers...         0\n",
       "2  The only thing in \"Sudden Death\" that outdoes ...         0\n",
       "3  Apparently none of the previous reviewers,most...         0\n",
       "4  Looking at these reviews and seeing all these ...         0"
      ]
     },
     "execution_count": 45,
     "metadata": {},
     "output_type": "execute_result"
    }
   ],
   "source": [
    "#Movie Review data from IMBD\n",
    "url = \"https://raw.githubusercontent.com/Graeme-kemp/Classifiers/main/imbd-reviews.csv\"\n",
    "df = pd.read_csv(url, encoding=\"latin-1\")\n",
    "df.head(5)\n"
   ]
  },
  {
   "cell_type": "code",
   "execution_count": 46,
   "metadata": {},
   "outputs": [],
   "source": [
    "from sklearn.naive_bayes import MultinomialNB\n",
    "from sklearn import metrics\n",
    "\n",
    "X = df.review\n",
    "y = df.positive\n",
    "X_tr, X_te, y_tr, y_te = train_test_split(X, y, test_size=10000, random_state=42)"
   ]
  },
  {
   "cell_type": "code",
   "execution_count": 47,
   "metadata": {},
   "outputs": [
    {
     "name": "stdout",
     "output_type": "stream",
     "text": [
      "training error = 0.08\n",
      "testing error = 0.17\n"
     ]
    }
   ],
   "source": [
    "v = CountVectorizer()\n",
    "v.fit(X_tr)\n",
    "mnb = MultinomialNB()\n",
    "mnb.fit(v.transform(X_tr), y_tr)\n",
    "y_pr = mnb.predict(v.transform(X_te))\n",
    "y_test_pred = mnb.predict(v.transform(X_tr))\n",
    "train_err = np.mean(y_test_pred != y_tr)\n",
    "test_err = np.mean(y_pr != y_te)\n",
    "print(f\"training error = {train_err:.2f}\")\n",
    "print(f\"testing error = {test_err:.2f}\")\n"
   ]
  },
  {
   "cell_type": "markdown",
   "metadata": {},
   "source": [
    "### 2) Random Forest Classifier for Movie Reviews"
   ]
  },
  {
   "cell_type": "code",
   "execution_count": 48,
   "metadata": {},
   "outputs": [
    {
     "name": "stdout",
     "output_type": "stream",
     "text": [
      "training error = 0.00\n",
      "testing error = 0.17\n"
     ]
    }
   ],
   "source": [
    "rf = RandomForestClassifier(n_estimators=100)\n",
    "rf.fit(v.fit_transform(X_tr), y_tr)\n",
    "y_pred = rf.predict(v.transform(X_te))\n",
    "y_test_pred = rf.predict(v.transform(X_tr))\n",
    "\n",
    "train_err = np.mean(y_test_pred != y_tr)\n",
    "test_err = np.mean(y_pred != y_te)\n",
    "\n",
    "print(f\"training error = {train_err:.2f}\")\n",
    "print(f\"testing error = {test_err:.2f}\")"
   ]
  },
  {
   "cell_type": "code",
   "execution_count": 54,
   "metadata": {},
   "outputs": [
    {
     "data": {
      "text/html": [
       "<div>\n",
       "<style scoped>\n",
       "    .dataframe tbody tr th:only-of-type {\n",
       "        vertical-align: middle;\n",
       "    }\n",
       "\n",
       "    .dataframe tbody tr th {\n",
       "        vertical-align: top;\n",
       "    }\n",
       "\n",
       "    .dataframe thead th {\n",
       "        text-align: right;\n",
       "    }\n",
       "</style>\n",
       "<table border=\"1\" class=\"dataframe\">\n",
       "  <thead>\n",
       "    <tr style=\"text-align: right;\">\n",
       "      <th></th>\n",
       "      <th>0</th>\n",
       "      <th>1</th>\n",
       "    </tr>\n",
       "  </thead>\n",
       "  <tbody>\n",
       "    <tr>\n",
       "      <th>23518</th>\n",
       "      <td>it</td>\n",
       "      <td>0.002200</td>\n",
       "    </tr>\n",
       "    <tr>\n",
       "      <th>22347</th>\n",
       "      <td>in</td>\n",
       "      <td>0.002370</td>\n",
       "    </tr>\n",
       "    <tr>\n",
       "      <th>24223</th>\n",
       "      <td>just</td>\n",
       "      <td>0.002489</td>\n",
       "    </tr>\n",
       "    <tr>\n",
       "      <th>49371</th>\n",
       "      <td>wonderful</td>\n",
       "      <td>0.002503</td>\n",
       "    </tr>\n",
       "    <tr>\n",
       "      <th>33820</th>\n",
       "      <td>plot</td>\n",
       "      <td>0.002562</td>\n",
       "    </tr>\n",
       "    <tr>\n",
       "      <th>48507</th>\n",
       "      <td>was</td>\n",
       "      <td>0.002577</td>\n",
       "    </tr>\n",
       "    <tr>\n",
       "      <th>5582</th>\n",
       "      <td>boring</td>\n",
       "      <td>0.002590</td>\n",
       "    </tr>\n",
       "    <tr>\n",
       "      <th>15348</th>\n",
       "      <td>even</td>\n",
       "      <td>0.002602</td>\n",
       "    </tr>\n",
       "    <tr>\n",
       "      <th>4610</th>\n",
       "      <td>best</td>\n",
       "      <td>0.002629</td>\n",
       "    </tr>\n",
       "    <tr>\n",
       "      <th>21427</th>\n",
       "      <td>horrible</td>\n",
       "      <td>0.002697</td>\n",
       "    </tr>\n",
       "    <tr>\n",
       "      <th>49502</th>\n",
       "      <td>worse</td>\n",
       "      <td>0.002701</td>\n",
       "    </tr>\n",
       "    <tr>\n",
       "      <th>45165</th>\n",
       "      <td>to</td>\n",
       "      <td>0.002706</td>\n",
       "    </tr>\n",
       "    <tr>\n",
       "      <th>42958</th>\n",
       "      <td>stupid</td>\n",
       "      <td>0.002712</td>\n",
       "    </tr>\n",
       "    <tr>\n",
       "      <th>44652</th>\n",
       "      <td>the</td>\n",
       "      <td>0.002738</td>\n",
       "    </tr>\n",
       "    <tr>\n",
       "      <th>2885</th>\n",
       "      <td>as</td>\n",
       "      <td>0.002771</td>\n",
       "    </tr>\n",
       "    <tr>\n",
       "      <th>29650</th>\n",
       "      <td>movie</td>\n",
       "      <td>0.002812</td>\n",
       "    </tr>\n",
       "    <tr>\n",
       "      <th>30681</th>\n",
       "      <td>no</td>\n",
       "      <td>0.002819</td>\n",
       "    </tr>\n",
       "    <tr>\n",
       "      <th>26596</th>\n",
       "      <td>love</td>\n",
       "      <td>0.002860</td>\n",
       "    </tr>\n",
       "    <tr>\n",
       "      <th>23448</th>\n",
       "      <td>is</td>\n",
       "      <td>0.002876</td>\n",
       "    </tr>\n",
       "    <tr>\n",
       "      <th>44795</th>\n",
       "      <td>this</td>\n",
       "      <td>0.002935</td>\n",
       "    </tr>\n",
       "    <tr>\n",
       "      <th>28854</th>\n",
       "      <td>minutes</td>\n",
       "      <td>0.003044</td>\n",
       "    </tr>\n",
       "    <tr>\n",
       "      <th>31273</th>\n",
       "      <td>of</td>\n",
       "      <td>0.003188</td>\n",
       "    </tr>\n",
       "    <tr>\n",
       "      <th>3451</th>\n",
       "      <td>awful</td>\n",
       "      <td>0.003532</td>\n",
       "    </tr>\n",
       "    <tr>\n",
       "      <th>44516</th>\n",
       "      <td>terrible</td>\n",
       "      <td>0.003859</td>\n",
       "    </tr>\n",
       "    <tr>\n",
       "      <th>2108</th>\n",
       "      <td>and</td>\n",
       "      <td>0.003885</td>\n",
       "    </tr>\n",
       "    <tr>\n",
       "      <th>15481</th>\n",
       "      <td>excellent</td>\n",
       "      <td>0.004377</td>\n",
       "    </tr>\n",
       "    <tr>\n",
       "      <th>48530</th>\n",
       "      <td>waste</td>\n",
       "      <td>0.005574</td>\n",
       "    </tr>\n",
       "    <tr>\n",
       "      <th>19292</th>\n",
       "      <td>great</td>\n",
       "      <td>0.008036</td>\n",
       "    </tr>\n",
       "    <tr>\n",
       "      <th>49516</th>\n",
       "      <td>worst</td>\n",
       "      <td>0.008125</td>\n",
       "    </tr>\n",
       "    <tr>\n",
       "      <th>3619</th>\n",
       "      <td>bad</td>\n",
       "      <td>0.010043</td>\n",
       "    </tr>\n",
       "  </tbody>\n",
       "</table>\n",
       "</div>"
      ],
      "text/plain": [
       "               0         1\n",
       "23518         it  0.002200\n",
       "22347         in  0.002370\n",
       "24223       just  0.002489\n",
       "49371  wonderful  0.002503\n",
       "33820       plot  0.002562\n",
       "48507        was  0.002577\n",
       "5582      boring  0.002590\n",
       "15348       even  0.002602\n",
       "4610        best  0.002629\n",
       "21427   horrible  0.002697\n",
       "49502      worse  0.002701\n",
       "45165         to  0.002706\n",
       "42958     stupid  0.002712\n",
       "44652        the  0.002738\n",
       "2885          as  0.002771\n",
       "29650      movie  0.002812\n",
       "30681         no  0.002819\n",
       "26596       love  0.002860\n",
       "23448         is  0.002876\n",
       "44795       this  0.002935\n",
       "28854    minutes  0.003044\n",
       "31273         of  0.003188\n",
       "3451       awful  0.003532\n",
       "44516   terrible  0.003859\n",
       "2108         and  0.003885\n",
       "15481  excellent  0.004377\n",
       "48530      waste  0.005574\n",
       "19292      great  0.008036\n",
       "49516      worst  0.008125\n",
       "3619         bad  0.010043"
      ]
     },
     "metadata": {},
     "output_type": "display_data"
    }
   ],
   "source": [
    "#data wrangling to get list of top 30 feature importances from Random Forest Model\n",
    "feat_df=pd.DataFrame(zip(list(v.get_feature_names()), rf.feature_importances_))\n",
    "sorted_features = feat_df.sort_values(by=[1], ascending = False)\n",
    "top30text = sorted_features.iloc[0:30,:]\n",
    "top30text = top30text.sort_values(by=[1], ascending = True)\n",
    "display(top30text)"
   ]
  },
  {
   "cell_type": "code",
   "execution_count": 55,
   "metadata": {},
   "outputs": [
    {
     "data": {
      "image/png": "[encoded data removed]",
      "text/plain": [
       "<Figure size 720x720 with 1 Axes>"
      ]
     },
     "metadata": {
      "needs_background": "light"
     },
     "output_type": "display_data"
    }
   ],
   "source": [
    "plt.figure(figsize=(10, 10))\n",
    "plt.title(\"Top 30 Words Feature Importance\", fontsize=14)\n",
    "plt.barh(top30text[0], top30text[1])\n",
    "plt.show()"
   ]
  },
  {
   "cell_type": "code",
   "execution_count": 56,
   "metadata": {},
   "outputs": [
    {
     "name": "stdout",
     "output_type": "stream",
     "text": [
      "4457 4389\n"
     ]
    }
   ],
   "source": [
    "#Getting frequency count for positve and negative reviews\n",
    "X_pos = X_tr[y_tr == 1]\n",
    "X_neg = X_tr[y_tr == 0]\n",
    "print(len(X_pos), len(X_neg))"
   ]
  },
  {
   "cell_type": "code",
   "execution_count": 57,
   "metadata": {},
   "outputs": [
    {
     "data": {
      "text/html": [
       "<div>\n",
       "<style scoped>\n",
       "    .dataframe tbody tr th:only-of-type {\n",
       "        vertical-align: middle;\n",
       "    }\n",
       "\n",
       "    .dataframe tbody tr th {\n",
       "        vertical-align: top;\n",
       "    }\n",
       "\n",
       "    .dataframe thead th {\n",
       "        text-align: right;\n",
       "    }\n",
       "</style>\n",
       "<table border=\"1\" class=\"dataframe\">\n",
       "  <thead>\n",
       "    <tr style=\"text-align: right;\">\n",
       "      <th></th>\n",
       "      <th>0</th>\n",
       "      <th>1</th>\n",
       "    </tr>\n",
       "  </thead>\n",
       "  <tbody>\n",
       "    <tr>\n",
       "      <th>33400</th>\n",
       "      <td>piano</td>\n",
       "      <td>60550</td>\n",
       "    </tr>\n",
       "    <tr>\n",
       "      <th>1597</th>\n",
       "      <td>alarmingly</td>\n",
       "      <td>31266</td>\n",
       "    </tr>\n",
       "    <tr>\n",
       "      <th>23321</th>\n",
       "      <td>investmentâ</td>\n",
       "      <td>26732</td>\n",
       "    </tr>\n",
       "    <tr>\n",
       "      <th>33782</th>\n",
       "      <td>pleasing</td>\n",
       "      <td>23329</td>\n",
       "    </tr>\n",
       "    <tr>\n",
       "      <th>17649</th>\n",
       "      <td>fremen</td>\n",
       "      <td>19941</td>\n",
       "    </tr>\n",
       "    <tr>\n",
       "      <th>...</th>\n",
       "      <td>...</td>\n",
       "      <td>...</td>\n",
       "    </tr>\n",
       "    <tr>\n",
       "      <th>12841</th>\n",
       "      <td>displaced</td>\n",
       "      <td>1</td>\n",
       "    </tr>\n",
       "    <tr>\n",
       "      <th>12840</th>\n",
       "      <td>dispersal</td>\n",
       "      <td>1</td>\n",
       "    </tr>\n",
       "    <tr>\n",
       "      <th>12836</th>\n",
       "      <td>dispense</td>\n",
       "      <td>1</td>\n",
       "    </tr>\n",
       "    <tr>\n",
       "      <th>12833</th>\n",
       "      <td>dispels</td>\n",
       "      <td>1</td>\n",
       "    </tr>\n",
       "    <tr>\n",
       "      <th>37445</th>\n",
       "      <td>rhine</td>\n",
       "      <td>1</td>\n",
       "    </tr>\n",
       "  </tbody>\n",
       "</table>\n",
       "<p>37446 rows × 2 columns</p>\n",
       "</div>"
      ],
      "text/plain": [
       "                 0      1\n",
       "33400        piano  60550\n",
       "1597    alarmingly  31266\n",
       "23321  investmentâ  26732\n",
       "33782     pleasing  23329\n",
       "17649       fremen  19941\n",
       "...            ...    ...\n",
       "12841    displaced      1\n",
       "12840    dispersal      1\n",
       "12836     dispense      1\n",
       "12833      dispels      1\n",
       "37445        rhine      1\n",
       "\n",
       "[37446 rows x 2 columns]"
      ]
     },
     "metadata": {},
     "output_type": "display_data"
    }
   ],
   "source": [
    "Pos_freq_df=pd.DataFrame(zip(list(v.get_feature_names()),v.fit_transform(X_pos).toarray().sum(axis=0)))\n",
    "Neg_freq_df=pd.DataFrame(zip(list(v.get_feature_names()),v.fit_transform(X_neg).toarray().sum(axis=0)))\n",
    "Pos_freq_df = Pos_freq_df.sort_values(by=[1], ascending = False)\n",
    "Neg_freq_df = Neg_freq_df.sort_values(by=[1], ascending = False)\n",
    "display(Pos_freq_df)"
   ]
  },
  {
   "cell_type": "code",
   "execution_count": 58,
   "metadata": {},
   "outputs": [],
   "source": [
    "Pos_reduced_freq_df = pd.concat([top30text, Pos_freq_df], join = 'inner', axis = 1)\n",
    "Pos_reduced_freq_df.columns = ['word', 'FeatureImportance', 'wordr', 'Frequency']\n",
    "Pos_reduced_freq_df = Pos_reduced_freq_df.drop(columns = ['wordr'])\n",
    "\n",
    "Neg_reduced_freq_df = pd.concat([top30text, Neg_freq_df], join = 'inner', axis = 1)\n",
    "Neg_reduced_freq_df.columns = ['word', 'FeatureImportance', 'wordr', 'Frequency']\n",
    "Neg_reduced_freq_df = Neg_reduced_freq_df.drop(columns = ['wordr'])"
   ]
  },
  {
   "cell_type": "code",
   "execution_count": 59,
   "metadata": {},
   "outputs": [
    {
     "data": {
      "text/html": [
       "<div>\n",
       "<style scoped>\n",
       "    .dataframe tbody tr th:only-of-type {\n",
       "        vertical-align: middle;\n",
       "    }\n",
       "\n",
       "    .dataframe tbody tr th {\n",
       "        vertical-align: top;\n",
       "    }\n",
       "\n",
       "    .dataframe thead th {\n",
       "        text-align: right;\n",
       "    }\n",
       "</style>\n",
       "<table border=\"1\" class=\"dataframe\">\n",
       "  <thead>\n",
       "    <tr style=\"text-align: right;\">\n",
       "      <th></th>\n",
       "      <th>word</th>\n",
       "      <th>FeatureImportance</th>\n",
       "      <th>Frequency</th>\n",
       "    </tr>\n",
       "  </thead>\n",
       "  <tbody>\n",
       "    <tr>\n",
       "      <th>23518</th>\n",
       "      <td>it</td>\n",
       "      <td>0.002200</td>\n",
       "      <td>20</td>\n",
       "    </tr>\n",
       "    <tr>\n",
       "      <th>22347</th>\n",
       "      <td>in</td>\n",
       "      <td>0.002370</td>\n",
       "      <td>1</td>\n",
       "    </tr>\n",
       "    <tr>\n",
       "      <th>24223</th>\n",
       "      <td>just</td>\n",
       "      <td>0.002489</td>\n",
       "      <td>1</td>\n",
       "    </tr>\n",
       "    <tr>\n",
       "      <th>33820</th>\n",
       "      <td>plot</td>\n",
       "      <td>0.002562</td>\n",
       "      <td>6</td>\n",
       "    </tr>\n",
       "    <tr>\n",
       "      <th>5582</th>\n",
       "      <td>boring</td>\n",
       "      <td>0.002590</td>\n",
       "      <td>1</td>\n",
       "    </tr>\n",
       "    <tr>\n",
       "      <th>15348</th>\n",
       "      <td>even</td>\n",
       "      <td>0.002602</td>\n",
       "      <td>167</td>\n",
       "    </tr>\n",
       "    <tr>\n",
       "      <th>4610</th>\n",
       "      <td>best</td>\n",
       "      <td>0.002629</td>\n",
       "      <td>30</td>\n",
       "    </tr>\n",
       "    <tr>\n",
       "      <th>21427</th>\n",
       "      <td>horrible</td>\n",
       "      <td>0.002697</td>\n",
       "      <td>3</td>\n",
       "    </tr>\n",
       "    <tr>\n",
       "      <th>2885</th>\n",
       "      <td>as</td>\n",
       "      <td>0.002771</td>\n",
       "      <td>1</td>\n",
       "    </tr>\n",
       "    <tr>\n",
       "      <th>29650</th>\n",
       "      <td>movie</td>\n",
       "      <td>0.002812</td>\n",
       "      <td>2</td>\n",
       "    </tr>\n",
       "    <tr>\n",
       "      <th>30681</th>\n",
       "      <td>no</td>\n",
       "      <td>0.002819</td>\n",
       "      <td>1</td>\n",
       "    </tr>\n",
       "    <tr>\n",
       "      <th>26596</th>\n",
       "      <td>love</td>\n",
       "      <td>0.002860</td>\n",
       "      <td>1</td>\n",
       "    </tr>\n",
       "    <tr>\n",
       "      <th>23448</th>\n",
       "      <td>is</td>\n",
       "      <td>0.002876</td>\n",
       "      <td>3</td>\n",
       "    </tr>\n",
       "    <tr>\n",
       "      <th>28854</th>\n",
       "      <td>minutes</td>\n",
       "      <td>0.003044</td>\n",
       "      <td>1</td>\n",
       "    </tr>\n",
       "    <tr>\n",
       "      <th>31273</th>\n",
       "      <td>of</td>\n",
       "      <td>0.003188</td>\n",
       "      <td>2</td>\n",
       "    </tr>\n",
       "    <tr>\n",
       "      <th>3451</th>\n",
       "      <td>awful</td>\n",
       "      <td>0.003532</td>\n",
       "      <td>13</td>\n",
       "    </tr>\n",
       "    <tr>\n",
       "      <th>2108</th>\n",
       "      <td>and</td>\n",
       "      <td>0.003885</td>\n",
       "      <td>1</td>\n",
       "    </tr>\n",
       "    <tr>\n",
       "      <th>15481</th>\n",
       "      <td>excellent</td>\n",
       "      <td>0.004377</td>\n",
       "      <td>3</td>\n",
       "    </tr>\n",
       "    <tr>\n",
       "      <th>19292</th>\n",
       "      <td>great</td>\n",
       "      <td>0.008036</td>\n",
       "      <td>1</td>\n",
       "    </tr>\n",
       "    <tr>\n",
       "      <th>3619</th>\n",
       "      <td>bad</td>\n",
       "      <td>0.010043</td>\n",
       "      <td>3</td>\n",
       "    </tr>\n",
       "  </tbody>\n",
       "</table>\n",
       "</div>"
      ],
      "text/plain": [
       "            word  FeatureImportance  Frequency\n",
       "23518         it           0.002200         20\n",
       "22347         in           0.002370          1\n",
       "24223       just           0.002489          1\n",
       "33820       plot           0.002562          6\n",
       "5582      boring           0.002590          1\n",
       "15348       even           0.002602        167\n",
       "4610        best           0.002629         30\n",
       "21427   horrible           0.002697          3\n",
       "2885          as           0.002771          1\n",
       "29650      movie           0.002812          2\n",
       "30681         no           0.002819          1\n",
       "26596       love           0.002860          1\n",
       "23448         is           0.002876          3\n",
       "28854    minutes           0.003044          1\n",
       "31273         of           0.003188          2\n",
       "3451       awful           0.003532         13\n",
       "2108         and           0.003885          1\n",
       "15481  excellent           0.004377          3\n",
       "19292      great           0.008036          1\n",
       "3619         bad           0.010043          3"
      ]
     },
     "metadata": {},
     "output_type": "display_data"
    }
   ],
   "source": [
    "display(Pos_reduced_freq_df)"
   ]
  },
  {
   "cell_type": "code",
   "execution_count": 39,
   "metadata": {},
   "outputs": [
    {
     "data": {
      "image/png": "[encoded data removed]",
      "text/plain": [
       "<Figure size 1152x864 with 1 Axes>"
      ]
     },
     "metadata": {
      "needs_background": "light"
     },
     "output_type": "display_data"
    }
   ],
   "source": [
    "plt.figure(figsize=(16, 12))\n",
    "ind = np.arange(30)\n",
    "height = 0.35\n",
    "plt.title(\"Top 30 Feature Importance Word Frequency in Positive & Negative Reviews\", fontsize=14)\n",
    "plt.barh(Neg_reduced_freq_df.word, Neg_reduced_freq_df.Frequency, height = height, align = 'edge')\n",
    "plt.barh(Pos_reduced_freq_df.word, Pos_reduced_freq_df.Frequency, height = height, align = 'center')\n",
    "plt.xlabel('Frequency Count', fontsize = 16)\n",
    "plt.legend(['Positive', 'Negative'], fontsize = 16)\n",
    "plt.show()"
   ]
  },
  {
   "cell_type": "markdown",
   "metadata": {},
   "source": [
    "The Negative and postive word plot for the top 30 words in terms of feature importance in the random forest classifier mostly confirms what we would expect. In this plot, the words 'bad' and 'awful' are negative words and appear more frequently in negative reviews compared to postive reviews. The clearly positive words also appear to be occuring significantly more in positive reviews compared to negative reviews as the word 'great' appears far more in positive reviews. This may be due to the small subset."
   ]
  },
  {
   "cell_type": "markdown",
   "metadata": {},
   "source": [
    "## Tuning Classifiers - grid_param "
   ]
  },
  {
   "cell_type": "code",
   "execution_count": null,
   "metadata": {},
   "outputs": [],
   "source": [
    "#Showing example code of how to tune the random forest classifier\n",
    "from sklearn.model_selection import RandomizedSearchCV\n",
    "from sklearn.svm import SVR\n",
    "url = \"https://raw.githubusercontent.com/Graeme-kemp/Classifiers/main/imbd-reviews.csv\"\n",
    "df = pd.read_csv(url, encoding=\"latin-1\")\n",
    "df.rename(columns={\"v1\": \"label\", \"v2\": \"message\"}, inplace=True)\n",
    "df.drop(columns=[\"Unnamed: 2\", \"Unnamed: 3\", \"Unnamed: 4\"], inplace=True)\n",
    "\n",
    "X = df.message\n",
    "y = df.label\n",
    "X_tr, X_te, y_tr, y_te = train_test_split(X, y, test_size=0.2, random_state=42)\n",
    "\n"
   ]
  },
  {
   "cell_type": "code",
   "execution_count": null,
   "metadata": {},
   "outputs": [],
   "source": [
    "#binary, stop_words, and max_features in CountVectorizer and n_estimators, max_depth and max_features\n",
    "\n",
    "grid_param = {\n",
    "    'n_estimators': [10, 20, 40, 60, 80, 100],\n",
    "    'max_depth': [5, 10, 15, 20, 25, 30],\n",
    "    'max_features': [10, 20, 30, 50, 100, 150],\n",
    "}\n",
    "\n"
   ]
  },
  {
   "cell_type": "code",
   "execution_count": null,
   "metadata": {},
   "outputs": [],
   "source": [
    "rf = RandomForestClassifier()\n",
    "v = CountVectorizer()\n",
    "\n",
    "rf_random = RandomizedSearchCV(estimator = rf, param_distributions = grid_param, n_iter = 100,\n",
    "                               cv = 3, verbose=2, random_state=42, n_jobs = -1)"
   ]
  },
  {
   "cell_type": "code",
   "execution_count": null,
   "metadata": {},
   "outputs": [],
   "source": [
    "search = rf_random.fit(v.fit_transform(X_tr), y_tr)\n"
   ]
  },
  {
   "cell_type": "code",
   "execution_count": null,
   "metadata": {},
   "outputs": [],
   "source": [
    "search.best_params_"
   ]
  },
  {
   "cell_type": "code",
   "execution_count": null,
   "metadata": {},
   "outputs": [],
   "source": [
    "y_pred = rf_random.predict(v.transform(X_te))\n",
    "print(y_pred)"
   ]
  },
  {
   "cell_type": "code",
   "execution_count": null,
   "metadata": {},
   "outputs": [],
   "source": [
    "test_err = np.mean(y_pred != y_te)\n",
    "print(f\"testing error = {test_err:.2f}\")"
   ]
  },
  {
   "cell_type": "code",
   "execution_count": null,
   "metadata": {},
   "outputs": [],
   "source": [
    "rf = RandomForestClassifier(n_estimators = 60, max_features= 150, max_depth= 30)\n",
    "rf_fit = rf.fit(v.fit_transform(X_tr), y_tr)\n",
    "y_pred = rf_fit.predict(v.transform(X_te))\n",
    "test_err = np.mean(y_pred != y_te)\n",
    "print(f\"testing error = {test_err:.2f}\")"
   ]
  },
  {
   "cell_type": "code",
   "execution_count": null,
   "metadata": {},
   "outputs": [],
   "source": []
  }
 ],
 "metadata": {
  "colab": {
   "name": "DATA_607__Assignment_2.ipynb",
   "provenance": []
  },
  "kernelspec": {
   "display_name": "Python 3",
   "language": "python",
   "name": "python3"
  },
  "language_info": {
   "codemirror_mode": {
    "name": "ipython",
    "version": 3
   },
   "file_extension": ".py",
   "mimetype": "text/x-python",
   "name": "python",
   "nbconvert_exporter": "python",
   "pygments_lexer": "ipython3",
   "version": "3.8.5"
  }
 },
 "nbformat": 4,
 "nbformat_minor": 1
}
